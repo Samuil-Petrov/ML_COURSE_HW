{
 "cells": [
  {
   "cell_type": "markdown",
   "metadata": {},
   "source": [
    "Download dataset from: https://insights.stackoverflow.com/survey (2022)"
   ]
  },
  {
   "cell_type": "markdown",
   "metadata": {},
   "source": [
    "HW: get the 5 most popular languages used by developers in United States of America"
   ]
  },
  {
   "cell_type": "code",
   "execution_count": 23,
   "metadata": {},
   "outputs": [
    {
     "data": {
      "text/plain": [
       "JavaScript    9018\n",
       "HTML/CSS      7369\n",
       "Python        7017\n",
       "SQL           6975\n",
       "Bash/Shell    5272\n",
       "dtype: int64"
      ]
     },
     "execution_count": 23,
     "metadata": {},
     "output_type": "execute_result"
    }
   ],
   "source": [
    "import pandas as pd\n",
    "df = pd.read_csv(\"data/survey_results_public.csv\")\n",
    "df_by_countries = df.groupby(\"Country\")\n",
    "df_by_countries.get_group(\"United States of America\").LanguageHaveWorkedWith.str.split(';', expand=True).stack().value_counts().head(5)\n",
    "# May enrich data with LanguageWantToWorkWith if it is considered that it boosts popularity"
   ]
  }
 ],
 "metadata": {
  "kernelspec": {
   "display_name": "base",
   "language": "python",
   "name": "python3"
  },
  "language_info": {
   "codemirror_mode": {
    "name": "ipython",
    "version": 3
   },
   "file_extension": ".py",
   "mimetype": "text/x-python",
   "name": "python",
   "nbconvert_exporter": "python",
   "pygments_lexer": "ipython3",
   "version": "3.10.9"
  },
  "orig_nbformat": 4
 },
 "nbformat": 4,
 "nbformat_minor": 2
}
