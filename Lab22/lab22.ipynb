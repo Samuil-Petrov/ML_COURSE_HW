{
 "cells": [
  {
   "cell_type": "markdown",
   "metadata": {},
   "source": [
    "Download dataset from: https://insights.stackoverflow.com/survey (2022)"
   ]
  },
  {
   "cell_type": "code",
   "execution_count": 2,
   "metadata": {},
   "outputs": [],
   "source": [
    "import pandas as pd"
   ]
  },
  {
   "cell_type": "code",
   "execution_count": 3,
   "metadata": {},
   "outputs": [
    {
     "data": {
      "text/html": [
       "<div>\n",
       "<style scoped>\n",
       "    .dataframe tbody tr th:only-of-type {\n",
       "        vertical-align: middle;\n",
       "    }\n",
       "\n",
       "    .dataframe tbody tr th {\n",
       "        vertical-align: top;\n",
       "    }\n",
       "\n",
       "    .dataframe thead th {\n",
       "        text-align: right;\n",
       "    }\n",
       "</style>\n",
       "<table border=\"1\" class=\"dataframe\">\n",
       "  <thead>\n",
       "    <tr style=\"text-align: right;\">\n",
       "      <th></th>\n",
       "      <th>qid</th>\n",
       "      <th>qname</th>\n",
       "      <th>question</th>\n",
       "      <th>force_resp</th>\n",
       "      <th>type</th>\n",
       "      <th>selector</th>\n",
       "    </tr>\n",
       "  </thead>\n",
       "  <tbody>\n",
       "    <tr>\n",
       "      <th>20</th>\n",
       "      <td>QID51</td>\n",
       "      <td>CompTotal</td>\n",
       "      <td>What is your current total compensation (salar...</td>\n",
       "      <td>False</td>\n",
       "      <td>TE</td>\n",
       "      <td>SL</td>\n",
       "    </tr>\n",
       "  </tbody>\n",
       "</table>\n",
       "</div>"
      ],
      "text/plain": [
       "      qid      qname                                           question  \\\n",
       "20  QID51  CompTotal  What is your current total compensation (salar...   \n",
       "\n",
       "   force_resp type selector  \n",
       "20      False   TE       SL  "
      ]
     },
     "execution_count": 3,
     "metadata": {},
     "output_type": "execute_result"
    }
   ],
   "source": [
    "# Find salary question in schema\n",
    "df_schema = pd.read_csv(\"data/survey_results_schema.csv\")\n",
    "salary_mask = df_schema.question.str.contains(\"salary\")\n",
    "# salary_mask.value_counts()\n",
    "salary_question = df_schema.loc[salary_mask]\n",
    "salary_question"
   ]
  },
  {
   "cell_type": "code",
   "execution_count": 14,
   "metadata": {},
   "outputs": [
    {
     "data": {
      "text/plain": [
       "159936"
      ]
     },
     "execution_count": 14,
     "metadata": {},
     "output_type": "execute_result"
    }
   ],
   "source": [
    "# Find the mean salary\n",
    "df_public = pd.read_csv(\"data/survey_results_public.csv\")\n",
    "\n",
    "# Previously I overlooked the existence of ConvertedCompYearly and the full format of the data\n",
    "#mask_columns_with_comp = df_public.columns.str.contains(\"Comp\")\n",
    "#print(df_public.columns[mask_columns_with_comp])\n",
    "\n",
    "# We do not want NaN values\n",
    "compensations_not_na = df_public.loc[df_public['ConvertedCompYearly'].notna(), ['ConvertedCompYearly']]\n",
    "\n",
    "# Some people have inputed gibberish values which skews our results\n",
    "# We have to set a borderline value which we consider real\n",
    "# It is still a ridiculous value but let's assume no one gets payed more than 12 milion per year\n",
    "compensations_real = compensations_not_na.loc[compensations_not_na['ConvertedCompYearly'] <= 12000000]\n",
    "\n",
    "# Display a whole number\n",
    "int(compensations_real.mean())\n"
   ]
  }
 ],
 "metadata": {
  "kernelspec": {
   "display_name": "base",
   "language": "python",
   "name": "python3"
  },
  "language_info": {
   "codemirror_mode": {
    "name": "ipython",
    "version": 3
   },
   "file_extension": ".py",
   "mimetype": "text/x-python",
   "name": "python",
   "nbconvert_exporter": "python",
   "pygments_lexer": "ipython3",
   "version": "3.10.9"
  },
  "orig_nbformat": 4
 },
 "nbformat": 4,
 "nbformat_minor": 2
}
