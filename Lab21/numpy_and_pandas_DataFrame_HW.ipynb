{
 "cells": [
  {
   "cell_type": "markdown",
   "metadata": {},
   "source": [
    "# Задачи за домашно\n",
    "\n",
    "Работете върху копие на дадения файл <a href='https://raw.githubusercontent.com/geekcourses/JupyterNotebooksExamples/master/Notebooks/numpy_and_pandas/DataFrame_HW.ipynb' download>DataFrame_HW.ipynb</a>, като попълните с код клетките, маркирани с коментара ```# your code here```, така че получения от вас резлутат (output) да съвпада с дадения под съответната клетка с код."
   ]
  },
  {
   "cell_type": "markdown",
   "metadata": {},
   "source": [
    "## Задача 1\n",
    "\n",
    "Използвайте данните в CSV файла даден тук: https://github.com/geekcourses/JupyterNotebooksExamples/blob/master/datasets/various/drinks.csv, като го свалите локално на вашата машина и заредите данните в DataFrame обект с име `df`.\n",
    "\n",
    "Покажете първите 10 реда от `df`."
   ]
  },
  {
   "cell_type": "code",
   "execution_count": 5,
   "metadata": {},
   "outputs": [],
   "source": [
    "import pandas as pd\n",
    "\n",
    "df = pd.read_csv(\"drinks.csv\");"
   ]
  },
  {
   "cell_type": "code",
   "execution_count": 6,
   "metadata": {},
   "outputs": [
    {
     "data": {
      "text/html": [
       "<div>\n",
       "<style scoped>\n",
       "    .dataframe tbody tr th:only-of-type {\n",
       "        vertical-align: middle;\n",
       "    }\n",
       "\n",
       "    .dataframe tbody tr th {\n",
       "        vertical-align: top;\n",
       "    }\n",
       "\n",
       "    .dataframe thead th {\n",
       "        text-align: right;\n",
       "    }\n",
       "</style>\n",
       "<table border=\"1\" class=\"dataframe\">\n",
       "  <thead>\n",
       "    <tr style=\"text-align: right;\">\n",
       "      <th></th>\n",
       "      <th>country</th>\n",
       "      <th>beer_servings</th>\n",
       "      <th>spirit_servings</th>\n",
       "      <th>wine_servings</th>\n",
       "      <th>total_litres_of_pure_alcohol</th>\n",
       "      <th>continent</th>\n",
       "    </tr>\n",
       "  </thead>\n",
       "  <tbody>\n",
       "    <tr>\n",
       "      <th>1</th>\n",
       "      <td>Albania</td>\n",
       "      <td>89</td>\n",
       "      <td>132</td>\n",
       "      <td>54</td>\n",
       "      <td>4.9</td>\n",
       "      <td>EU</td>\n",
       "    </tr>\n",
       "    <tr>\n",
       "      <th>2</th>\n",
       "      <td>Algeria</td>\n",
       "      <td>25</td>\n",
       "      <td>0</td>\n",
       "      <td>14</td>\n",
       "      <td>0.7</td>\n",
       "      <td>AF</td>\n",
       "    </tr>\n",
       "    <tr>\n",
       "      <th>3</th>\n",
       "      <td>Andorra</td>\n",
       "      <td>245</td>\n",
       "      <td>138</td>\n",
       "      <td>312</td>\n",
       "      <td>12.4</td>\n",
       "      <td>EU</td>\n",
       "    </tr>\n",
       "    <tr>\n",
       "      <th>4</th>\n",
       "      <td>Angola</td>\n",
       "      <td>217</td>\n",
       "      <td>57</td>\n",
       "      <td>45</td>\n",
       "      <td>5.9</td>\n",
       "      <td>AF</td>\n",
       "    </tr>\n",
       "    <tr>\n",
       "      <th>5</th>\n",
       "      <td>Antigua &amp; Barbuda</td>\n",
       "      <td>102</td>\n",
       "      <td>128</td>\n",
       "      <td>45</td>\n",
       "      <td>4.9</td>\n",
       "      <td>NaN</td>\n",
       "    </tr>\n",
       "    <tr>\n",
       "      <th>6</th>\n",
       "      <td>Argentina</td>\n",
       "      <td>193</td>\n",
       "      <td>25</td>\n",
       "      <td>221</td>\n",
       "      <td>8.3</td>\n",
       "      <td>SA</td>\n",
       "    </tr>\n",
       "    <tr>\n",
       "      <th>7</th>\n",
       "      <td>Armenia</td>\n",
       "      <td>21</td>\n",
       "      <td>179</td>\n",
       "      <td>11</td>\n",
       "      <td>3.8</td>\n",
       "      <td>EU</td>\n",
       "    </tr>\n",
       "    <tr>\n",
       "      <th>8</th>\n",
       "      <td>Australia</td>\n",
       "      <td>261</td>\n",
       "      <td>72</td>\n",
       "      <td>212</td>\n",
       "      <td>10.4</td>\n",
       "      <td>OC</td>\n",
       "    </tr>\n",
       "    <tr>\n",
       "      <th>9</th>\n",
       "      <td>Austria</td>\n",
       "      <td>279</td>\n",
       "      <td>75</td>\n",
       "      <td>191</td>\n",
       "      <td>9.7</td>\n",
       "      <td>EU</td>\n",
       "    </tr>\n",
       "    <tr>\n",
       "      <th>10</th>\n",
       "      <td>Azerbaijan</td>\n",
       "      <td>21</td>\n",
       "      <td>46</td>\n",
       "      <td>5</td>\n",
       "      <td>1.3</td>\n",
       "      <td>EU</td>\n",
       "    </tr>\n",
       "  </tbody>\n",
       "</table>\n",
       "</div>"
      ],
      "text/plain": [
       "              country  beer_servings  spirit_servings  wine_servings  \\\n",
       "1             Albania             89              132             54   \n",
       "2             Algeria             25                0             14   \n",
       "3             Andorra            245              138            312   \n",
       "4              Angola            217               57             45   \n",
       "5   Antigua & Barbuda            102              128             45   \n",
       "6           Argentina            193               25            221   \n",
       "7             Armenia             21              179             11   \n",
       "8           Australia            261               72            212   \n",
       "9             Austria            279               75            191   \n",
       "10         Azerbaijan             21               46              5   \n",
       "\n",
       "    total_litres_of_pure_alcohol continent  \n",
       "1                            4.9        EU  \n",
       "2                            0.7        AF  \n",
       "3                           12.4        EU  \n",
       "4                            5.9        AF  \n",
       "5                            4.9       NaN  \n",
       "6                            8.3        SA  \n",
       "7                            3.8        EU  \n",
       "8                           10.4        OC  \n",
       "9                            9.7        EU  \n",
       "10                           1.3        EU  "
      ]
     },
     "execution_count": 6,
     "metadata": {},
     "output_type": "execute_result"
    }
   ],
   "source": [
    "df.loc[1:10]"
   ]
  },
  {
   "cell_type": "markdown",
   "metadata": {},
   "source": [
    "## Задача 2\n",
    "\n",
    "Покажете броя на редовете и колоните в `df`."
   ]
  },
  {
   "cell_type": "code",
   "execution_count": 17,
   "metadata": {},
   "outputs": [
    {
     "name": "stdout",
     "output_type": "stream",
     "text": [
      "Rows count: 193\n",
      "Columns count: 6\n"
     ]
    }
   ],
   "source": [
    "print(\"Rows count: {}\".format(len(df.index)))\n",
    "print(\"Columns count: {}\".format(len(df.columns)))\n"
   ]
  },
  {
   "cell_type": "markdown",
   "metadata": {},
   "source": [
    "## Задача 3\n",
    "\n",
    "Покажете колко е броя на държавите в континент 'EU'"
   ]
  },
  {
   "cell_type": "code",
   "execution_count": 23,
   "metadata": {},
   "outputs": [
    {
     "data": {
      "text/plain": [
       "45"
      ]
     },
     "execution_count": 23,
     "metadata": {},
     "output_type": "execute_result"
    }
   ],
   "source": [
    "len(df.loc[df['continent']=='EU'])"
   ]
  },
  {
   "cell_type": "markdown",
   "metadata": {},
   "source": [
    "## Задача 4\n",
    "\n",
    "Покажете количествата бира ('beer_servings'), вино ('wine_servings') и спиртни напитки ('spirit_servings'), които се концумират в Bulgaria"
   ]
  },
  {
   "cell_type": "code",
   "execution_count": 28,
   "metadata": {},
   "outputs": [
    {
     "data": {
      "text/html": [
       "<div>\n",
       "<style scoped>\n",
       "    .dataframe tbody tr th:only-of-type {\n",
       "        vertical-align: middle;\n",
       "    }\n",
       "\n",
       "    .dataframe tbody tr th {\n",
       "        vertical-align: top;\n",
       "    }\n",
       "\n",
       "    .dataframe thead th {\n",
       "        text-align: right;\n",
       "    }\n",
       "</style>\n",
       "<table border=\"1\" class=\"dataframe\">\n",
       "  <thead>\n",
       "    <tr style=\"text-align: right;\">\n",
       "      <th></th>\n",
       "      <th>country</th>\n",
       "      <th>beer_servings</th>\n",
       "      <th>wine_servings</th>\n",
       "      <th>spirit_servings</th>\n",
       "    </tr>\n",
       "  </thead>\n",
       "  <tbody>\n",
       "    <tr>\n",
       "      <th>25</th>\n",
       "      <td>Bulgaria</td>\n",
       "      <td>231</td>\n",
       "      <td>94</td>\n",
       "      <td>252</td>\n",
       "    </tr>\n",
       "  </tbody>\n",
       "</table>\n",
       "</div>"
      ],
      "text/plain": [
       "     country  beer_servings  wine_servings  spirit_servings\n",
       "25  Bulgaria            231             94              252"
      ]
     },
     "execution_count": 28,
     "metadata": {},
     "output_type": "execute_result"
    }
   ],
   "source": [
    "df.loc[df['country'] == 'Bulgaria', ['country', 'beer_servings', 'wine_servings', 'spirit_servings']]"
   ]
  },
  {
   "cell_type": "markdown",
   "metadata": {},
   "source": [
    "## Задача 5\n",
    "\n",
    "Покажете какво е максимално количество консумирано вино ('wine_servings') в целия дейтасет и коя е държавата в която се консумира то."
   ]
  },
  {
   "cell_type": "code",
   "execution_count": 40,
   "metadata": {},
   "outputs": [
    {
     "name": "stdout",
     "output_type": "stream",
     "text": [
      "Maximum wine_servings: 370, consumed in France\n"
     ]
    }
   ],
   "source": [
    "max_wine_consumer = df.loc[df['wine_servings'].idxmax()]\n",
    "print(\"Maximum wine_servings: {}, consumed in {}\".format(max_wine_consumer.wine_servings, max_wine_consumer.country))"
   ]
  },
  {
   "cell_type": "markdown",
   "metadata": {},
   "source": [
    "## Задача 6\n",
    "\n",
    "Покажете какво е максимално количество консумирано вино ('wine_servings') в континент Южна Америка ('SA') и коя е държавата в която се консумира то."
   ]
  },
  {
   "cell_type": "code",
   "execution_count": 45,
   "metadata": {},
   "outputs": [
    {
     "name": "stdout",
     "output_type": "stream",
     "text": [
      "Maximum wine_servings in South America: 221, consumed in Argentina\n"
     ]
    }
   ],
   "source": [
    "data_sa = df.loc[df['continent']=='SA']\n",
    "max_wine_consumer_sa = data_sa.loc[data_sa['wine_servings'].idxmax()]\n",
    "print(\"Maximum wine_servings in South America: {}, consumed in {}\".format(max_wine_consumer_sa.wine_servings, max_wine_consumer_sa.country))"
   ]
  },
  {
   "cell_type": "markdown",
   "metadata": {},
   "source": [
    "## Задача 7\n",
    "\n",
    "Покажете държавата в която се консумира най-много бира ('beer_servings'), какво е количеството и в кой континент се намира тя."
   ]
  },
  {
   "cell_type": "code",
   "execution_count": 46,
   "metadata": {},
   "outputs": [
    {
     "name": "stdout",
     "output_type": "stream",
     "text": [
      "Maximum beer_servings: 376, consumed in Namibia (AF)\n"
     ]
    }
   ],
   "source": [
    "max_beer_consumer = df.loc[df['beer_servings'].idxmax()]\n",
    "print(\"Maximum beer_servings: {}, consumed in {} ({})\".format(max_beer_consumer.beer_servings, max_beer_consumer.country, max_beer_consumer.continent))"
   ]
  },
  {
   "cell_type": "markdown",
   "metadata": {},
   "source": [
    "## Задача 8\n",
    "\n",
    "Покажете държавите в които не се консумира бира."
   ]
  },
  {
   "cell_type": "code",
   "execution_count": 48,
   "metadata": {},
   "outputs": [
    {
     "data": {
      "text/plain": [
       "0           Afghanistan\n",
       "13           Bangladesh\n",
       "40         Cook Islands\n",
       "46          North Korea\n",
       "79                 Iran\n",
       "90               Kuwait\n",
       "97                Libya\n",
       "103            Maldives\n",
       "106    Marshall Islands\n",
       "107          Mauritania\n",
       "111              Monaco\n",
       "128            Pakistan\n",
       "147          San Marino\n",
       "149        Saudi Arabia\n",
       "158             Somalia\n",
       "Name: country, dtype: object"
      ]
     },
     "execution_count": 48,
     "metadata": {},
     "output_type": "execute_result"
    }
   ],
   "source": [
    "beer_abstainers = df.loc[df['beer_servings']==0]\n",
    "beer_abstainers.country"
   ]
  }
 ],
 "metadata": {
  "kernelspec": {
   "display_name": "Python 3.9.13",
   "language": "python",
   "name": "python3"
  },
  "language_info": {
   "codemirror_mode": {
    "name": "ipython",
    "version": 3
   },
   "file_extension": ".py",
   "mimetype": "text/x-python",
   "name": "python",
   "nbconvert_exporter": "python",
   "pygments_lexer": "ipython3",
   "version": "3.10.9"
  },
  "orig_nbformat": 4,
  "vscode": {
   "interpreter": {
    "hash": "42316c01c00cd60ac05817179ffd8476643c0e4f83e2179e5d0fb24c20720caa"
   }
  }
 },
 "nbformat": 4,
 "nbformat_minor": 2
}
